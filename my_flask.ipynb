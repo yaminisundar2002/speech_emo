{
 "cells": [
  {
   "cell_type": "code",
   "execution_count": 1,
   "id": "c982e0ca",
   "metadata": {},
   "outputs": [
    {
     "name": "stdout",
     "output_type": "stream",
     "text": [
      "Loaded model from disk\n"
     ]
    }
   ],
   "source": [
    "# loading json and creating model\n",
    "from keras.models import model_from_json\n",
    "json_file = open('model.json', 'r')\n",
    "loaded_model_json = json_file.read()\n",
    "json_file.close()\n",
    "loaded_model = model_from_json(loaded_model_json)\n",
    "# load weights into new model\n",
    "loaded_model.load_weights(\"./Trained_Models/Speech_Emotion_Recognition_Model.h5\")\n",
    "print(\"Loaded model from disk\")"
   ]
  },
  {
   "cell_type": "code",
   "execution_count": 2,
   "id": "922c3450",
   "metadata": {},
   "outputs": [
    {
     "name": "stderr",
     "output_type": "stream",
     "text": [
      "C:\\Users\\yamini\\anaconda3\\lib\\site-packages\\paramiko\\transport.py:219: CryptographyDeprecationWarning: Blowfish has been deprecated\n",
      "  \"class\": algorithms.Blowfish,\n"
     ]
    }
   ],
   "source": [
    "import warnings\n",
    "from cryptography.utils import CryptographyDeprecationWarning\n",
    "with warnings.catch_warnings():\n",
    "    warnings.filterwarnings('ignore', category=CryptographyDeprecationWarning)\n",
    "from utils.feature_extraction import get_audio_features    "
   ]
  },
  {
   "cell_type": "code",
   "execution_count": null,
   "id": "01c89bc9",
   "metadata": {
    "scrolled": true
   },
   "outputs": [
    {
     "name": "stdout",
     "output_type": "stream",
     "text": [
      " * Serving Flask app \"__main__\" (lazy loading)\n",
      " * Environment: production\n",
      "\u001b[31m   WARNING: This is a development server. Do not use it in a production deployment.\u001b[0m\n",
      "\u001b[2m   Use a production WSGI server instead.\u001b[0m\n",
      " * Debug mode: off\n"
     ]
    },
    {
     "name": "stderr",
     "output_type": "stream",
     "text": [
      " * Running on http://127.0.0.1:5000/ (Press CTRL+C to quit)\n"
     ]
    }
   ],
   "source": [
    "from flask import Flask,render_template,url_for,request\n",
    "import pandas as pd \n",
    "import joblib\n",
    "\n",
    "app = Flask(__name__)\n",
    "\n",
    "@app.route('/')\n",
    "def home():\n",
    "\treturn render_template('index.html')\n",
    "\n",
    "@app.route('/index',methods=[\"GET\",\"POST\"])\n",
    "def index():\n",
    "\tif request.method == 'POST':\n",
    "\t\tprint(\"yess\")       \n",
    "\t\tfile = request.files['file'].filename\n",
    "\t\tprint(\"yess\")       \n",
    "\t\tdemo_mfcc, demo_pitch, demo_mag, demo_chrom = get_audio_features(file,20000)        \n",
    "\t\tmfcc = pd.Series(demo_mfcc)\n",
    "\t\tpit = pd.Series(demo_pitch)\n",
    "\t\tmag = pd.Series(demo_mag)\n",
    "\t\tC = pd.Series(demo_chrom)\n",
    "\t\tdemo_audio_features = pd.concat([mfcc,pit,mag,C],ignore_index=True)\n",
    "\t\tdemo_audio_features= np.expand_dims(demo_audio_features, axis=0)\n",
    "\t\tdemo_audio_features= np.expand_dims(demo_audio_features, axis=2)\n",
    "\t\tdemo_audio_features.shape    \n",
    "\t\tlivepreds = loaded_model.predict(demo_audio_features, \n",
    "                         batch_size=32, \n",
    "                         verbose=1)\n",
    "\t\tlivepreds\n",
    "\t\tindex = livepreds.argmax(axis=1).item()\n",
    "\t\tindex      \n",
    "\t\treturn render_template('index.html', msg = emotions[index])\n",
    "\n",
    "if __name__ == '__main__':\n",
    "\tapp.run(debug=False)"
   ]
  }
 ],
 "metadata": {
  "kernelspec": {
   "display_name": "Python 3 (ipykernel)",
   "language": "python",
   "name": "python3"
  },
  "language_info": {
   "codemirror_mode": {
    "name": "ipython",
    "version": 3
   },
   "file_extension": ".py",
   "mimetype": "text/x-python",
   "name": "python",
   "nbconvert_exporter": "python",
   "pygments_lexer": "ipython3",
   "version": "3.9.13"
  }
 },
 "nbformat": 4,
 "nbformat_minor": 5
}
